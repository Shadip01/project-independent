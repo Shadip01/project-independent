{
 "cells": [
  {
   "cell_type": "code",
   "execution_count": 2,
   "metadata": {},
   "outputs": [],
   "source": [
    "\n",
    "import numpy as np\n",
    "import pandas as pd\n",
    "from sklearn.preprocessing import LabelEncoder, MinMaxScaler\n",
    "from tensorflow.keras.layers import SimpleRNN, LSTM, Dense, Dropout\n",
    "from sklearn.model_selection import train_test_split\n",
    "from tensorflow.keras.models import Sequential\n",
    "from tensorflow.keras.utils import to_categorical\n",
    "from tensorflow.keras.optimizers import Adam"
   ]
  },
  {
   "cell_type": "code",
   "execution_count": 4,
   "metadata": {},
   "outputs": [],
   "source": [
    "file_name = '../DATASETS/RNNs-datasets/data_reports_monthly.csv'\n",
    "database = pd.read_csv(file_name)\n",
    "\n",
    "database.replace('-', np.nan, inplace=True)  # Replace '-' with NaN\n",
    "database = database.dropna(subset=['Trips Per Day', 'Unique Vehicles', 'Unique Drivers', 'License Class'])\n",
    "database['Trips Per Day'] = database['Trips Per Day'].replace({',': ''}, regex=True).astype(float)\n",
    "database['Unique Vehicles'] = database['Unique Vehicles'].replace({',': ''}, regex=True).astype(float)\n",
    "database['Unique Drivers'] = database['Unique Drivers'].replace({',': ''}, regex=True).astype(float)\n"
   ]
  },
  {
   "cell_type": "code",
   "execution_count": 6,
   "metadata": {},
   "outputs": [],
   "source": [
    "# Encode the target column (Month/Year)\n",
    "encoder = LabelEncoder()\n",
    "database['License Class'] = encoder.fit_transform(database['License Class'])\n",
    "database['Month/Year'] = encoder.fit_transform(database['Month/Year'])\n",
    "\n",
    "# Extract features and target\n",
    "features = database[['Trips Per Day', 'Unique Vehicles', 'Unique Drivers', 'License Class']].values\n",
    "target = database['Month/Year'].values\n",
    "\n",
    "# Normalize features\n",
    "scaler = MinMaxScaler()\n",
    "features_scaled = scaler.fit_transform(features)"
   ]
  },
  {
   "cell_type": "code",
   "execution_count": null,
   "metadata": {},
   "outputs": [],
   "source": []
  },
  {
   "cell_type": "code",
   "execution_count": null,
   "metadata": {},
   "outputs": [],
   "source": []
  }
 ],
 "metadata": {
  "kernelspec": {
   "display_name": "Python 3",
   "language": "python",
   "name": "python3"
  },
  "language_info": {
   "codemirror_mode": {
    "name": "ipython",
    "version": 3
   },
   "file_extension": ".py",
   "mimetype": "text/x-python",
   "name": "python",
   "nbconvert_exporter": "python",
   "pygments_lexer": "ipython3",
   "version": "3.11.2"
  }
 },
 "nbformat": 4,
 "nbformat_minor": 2
}
